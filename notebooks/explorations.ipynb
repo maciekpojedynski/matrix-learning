{
 "cells": [
  {
   "cell_type": "markdown",
   "id": "e75d561e",
   "metadata": {},
   "source": [
    "Tworzenie macierzy"
   ]
  },
  {
   "cell_type": "code",
   "execution_count": 1,
   "id": "dccb9eb5",
   "metadata": {},
   "outputs": [
    {
     "name": "stdout",
     "output_type": "stream",
     "text": [
      "[[1 2]\n",
      " [3 4]]\n"
     ]
    }
   ],
   "source": [
    "import numpy as np\n",
    "\n",
    "A = np.array([[1,2],[3,4]])\n",
    "B = np.ones((2,2)) #Tworzy macierz 2x2 wypełnioną jedynkami\n",
    "C = np.zeros((2,2)) #Tworzy macierz 2x2 wypełnioną zerami\n",
    "D = np.eye(2) #Tworzy macierz jednostkową 2x2\n",
    "\n",
    "print(A)\n"
   ]
  },
  {
   "cell_type": "markdown",
   "id": "d2e65f1c",
   "metadata": {},
   "source": [
    "Operacje na macierzach"
   ]
  },
  {
   "cell_type": "code",
   "execution_count": 3,
   "id": "99dbc3f6",
   "metadata": {},
   "outputs": [],
   "source": [
    "E = A + B #Dodawanie macierzy\n",
    "F = A - C #Odejmowanie macierzy\n",
    "G = A * B #Mnożenie macierzy element po elemencie (Nieintuicyjne, ale działa)\n",
    "H = A @ D #Mnożenie macierzy (iloczyn macierzy, ten operator jest bardziej intuicyjny)\n",
    "I = np.linalg.inv(A) #Macierz odwrotna do A\n",
    "J = np.linalg.det(A) #Wyznacznik macierzy A\n",
    "G = A.T #Transpozycja macierzy A"
   ]
  },
  {
   "cell_type": "markdown",
   "id": "e1b16148",
   "metadata": {},
   "source": [
    "Sprawdzanie wymiaru i kształtu"
   ]
  },
  {
   "cell_type": "code",
   "execution_count": null,
   "id": "da84e3cb",
   "metadata": {},
   "outputs": [],
   "source": [
    "A.shape #Sprawdza kształt macierzy A\n",
    "A.ndim #Sprawdza liczbę wymiarów macierzy A\n",
    "A.size #Sprawdza liczbę elementów w macierzy A\n"
   ]
  },
  {
   "cell_type": "markdown",
   "id": "e967142b",
   "metadata": {},
   "source": [
    "Reshape i flatten"
   ]
  },
  {
   "cell_type": "code",
   "execution_count": null,
   "id": "44677db4",
   "metadata": {},
   "outputs": [],
   "source": [
    "A.reshape(6,2) #Zmienia kształt macierzy A na new_shape (Chodzi o to, zeby po wymnozeniu wymariow wyszla ta sama ilosc elementow, 6 i 2 to to samo co 4 i 3)\n",
    "A.flatten() #Spłaszcza macierz A do jednego wymiaru\n",
    "A.ravel() #Spłaszcza macierz A do jednego wymiaru, ale zwraca widok, a nie kopię\n"
   ]
  },
  {
   "cell_type": "markdown",
   "id": "fc37ee30",
   "metadata": {},
   "source": [
    "Agregacje"
   ]
  },
  {
   "cell_type": "code",
   "execution_count": 9,
   "id": "dfa6d872",
   "metadata": {},
   "outputs": [
    {
     "name": "stdout",
     "output_type": "stream",
     "text": [
      "[4 6]\n",
      "[2 4]\n"
     ]
    }
   ],
   "source": [
    "np.sum(A) #Sumuje wszystkie elementy macierzy A\n",
    "np.mean(A) #Średnia wszystkich elementów macierzy A\n",
    "np.std(A) #Odchylenie standardowe wszystkich elementów macierzy A\n",
    "np.var(A) #Wariancja wszystkich elementów macierzy A\n",
    "np.min(A) #Minimalny element macierzy A\n",
    "np.max(A) #Maksymalny element macierzy A\n",
    "\n",
    "print(np.sum(A, axis=0)) #Sumuje elementy wzdłuż kolumn (axis=0)\n",
    "print(np.max(A, axis = 1))"
   ]
  },
  {
   "cell_type": "markdown",
   "id": "15bfdb5a",
   "metadata": {},
   "source": [
    "Broadcasting (Przydatne w MLops)"
   ]
  },
  {
   "cell_type": "code",
   "execution_count": 10,
   "id": "f2cf0978",
   "metadata": {},
   "outputs": [
    {
     "name": "stdout",
     "output_type": "stream",
     "text": [
      "[[1 4]\n",
      " [3 8]]\n"
     ]
    }
   ],
   "source": [
    "A + 5 #Dodaje 5 do każdego elementu macierzy A (Broadcasting)\n",
    "test = A * np.array([1,2]) #Mnoży każdy wiersz macierzy A przez odpowiedni element z wektora (Broadcasting)\n",
    "print(test)"
   ]
  },
  {
   "cell_type": "markdown",
   "id": "3374b5e0",
   "metadata": {},
   "source": [
    "Dodatkowe funkcje potrzebne przy extremach funkcji dwoch zmiennych "
   ]
  },
  {
   "cell_type": "code",
   "execution_count": null,
   "id": "a9e570d6",
   "metadata": {},
   "outputs": [
    {
     "name": "stdout",
     "output_type": "stream",
     "text": [
      "[0.5403023 7.389056 ]\n"
     ]
    }
   ],
   "source": [
    "#Liczenie symboliczne - SymPy\n",
    "\n",
    "import sympy as sp\n",
    "\n",
    "x, y = sp.symbols('x y')\n",
    "f = x**2 + y**2 + 3*y**2\n",
    "\n",
    "#Pochodne\n",
    "sp.diff(f, x)  # Pochodna f względem x\n",
    "sp.diff(f, y)  # Pochodna f względem y\n",
    "\n",
    "#Obliczanie wartosci x i y, porownujac pochodne do zera\n",
    "solution = sp.solve([sp.diff(f, x), sp.diff(f, y)], (x, y))\n",
    "\n",
    "import jax\n",
    "import jax.numpy as jnp\n",
    "\n",
    "def f(x,y):\n",
    "    return jnp.sin(x) + jnp.exp(y) #To jest funkcja, która przyjmuje dwa argumenty x i y i zwraca sumę sin(x) i exp(y)\n",
    "\n",
    "#Gradient jako funkcja\n",
    "\n",
    "grad_f = jax.grad(lambda v: f(v[0], v[1]))  # Oblicza gradient funkcji f\n",
    "\n",
    "#Oblicza gradient w punkcie \n",
    "\n",
    "g = grad_f(jnp.array([1.0, 2.0]))  # Oblicza gradient w punkcie (1.0, 2.0)\n",
    "print(g)"
   ]
  }
 ],
 "metadata": {
  "kernelspec": {
   "display_name": ".venv",
   "language": "python",
   "name": "python3"
  },
  "language_info": {
   "codemirror_mode": {
    "name": "ipython",
    "version": 3
   },
   "file_extension": ".py",
   "mimetype": "text/x-python",
   "name": "python",
   "nbconvert_exporter": "python",
   "pygments_lexer": "ipython3",
   "version": "3.13.2"
  }
 },
 "nbformat": 4,
 "nbformat_minor": 5
}
